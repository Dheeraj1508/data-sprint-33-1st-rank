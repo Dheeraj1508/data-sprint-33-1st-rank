{
 "cells": [
  {
   "cell_type": "code",
   "execution_count": 1,
   "id": "hawaiian-tension",
   "metadata": {},
   "outputs": [],
   "source": [
    "import numpy as np\n",
    "import pandas as pd\n",
    "import matplotlib.pyplot as plt\n",
    "import seaborn as sns\n",
    "import plotly.express as px"
   ]
  },
  {
   "cell_type": "code",
   "execution_count": 16,
   "id": "pending-island",
   "metadata": {},
   "outputs": [],
   "source": [
    "train = pd.read_csv(\"train_set.csv\") #(287836, 15)\n",
    "test = pd.read_csv(\"test_set.csv\") #(47860, 14)\n",
    "sub = pd.read_csv(\"sample_submission.csv\")"
   ]
  },
  {
   "cell_type": "code",
   "execution_count": 17,
   "id": "incident-marathon",
   "metadata": {},
   "outputs": [
    {
     "name": "stdout",
     "output_type": "stream",
     "text": [
      "<class 'pandas.core.frame.DataFrame'>\n",
      "RangeIndex: 287836 entries, 0 to 287835\n",
      "Data columns (total 15 columns):\n",
      " #   Column              Non-Null Count   Dtype  \n",
      "---  ------              --------------   -----  \n",
      " 0   Year                287836 non-null  int64  \n",
      " 1   OGC                 287836 non-null  int64  \n",
      " 2   OG                  287836 non-null  object \n",
      " 3   DC                  287836 non-null  object \n",
      " 4   Dept                287836 non-null  object \n",
      " 5   UC                  287836 non-null  int64  \n",
      " 6   Union               287800 non-null  object \n",
      " 7   JF                  287798 non-null  object \n",
      " 8   Job                 287836 non-null  object \n",
      " 9   EI                  287836 non-null  int64  \n",
      " 10  Salaries            287836 non-null  int64  \n",
      " 11  Overtime            287836 non-null  int64  \n",
      " 12  H/D                 287836 non-null  float64\n",
      " 13  YT                  287836 non-null  object \n",
      " 14  Total_Compensation  287836 non-null  int64  \n",
      "dtypes: float64(1), int64(7), object(7)\n",
      "memory usage: 32.9+ MB\n"
     ]
    }
   ],
   "source": [
    "train.info()"
   ]
  },
  {
   "cell_type": "code",
   "execution_count": 18,
   "id": "numerical-gentleman",
   "metadata": {},
   "outputs": [
    {
     "data": {
      "text/html": [
       "<div>\n",
       "<style scoped>\n",
       "    .dataframe tbody tr th:only-of-type {\n",
       "        vertical-align: middle;\n",
       "    }\n",
       "\n",
       "    .dataframe tbody tr th {\n",
       "        vertical-align: top;\n",
       "    }\n",
       "\n",
       "    .dataframe thead th {\n",
       "        text-align: right;\n",
       "    }\n",
       "</style>\n",
       "<table border=\"1\" class=\"dataframe\">\n",
       "  <thead>\n",
       "    <tr style=\"text-align: right;\">\n",
       "      <th></th>\n",
       "      <th>Year</th>\n",
       "      <th>OGC</th>\n",
       "      <th>UC</th>\n",
       "      <th>EI</th>\n",
       "      <th>Salaries</th>\n",
       "      <th>Overtime</th>\n",
       "      <th>H/D</th>\n",
       "      <th>Total_Compensation</th>\n",
       "    </tr>\n",
       "  </thead>\n",
       "  <tbody>\n",
       "    <tr>\n",
       "      <th>count</th>\n",
       "      <td>287836.000000</td>\n",
       "      <td>287836.000000</td>\n",
       "      <td>287836.000000</td>\n",
       "      <td>287836.000000</td>\n",
       "      <td>287836.000000</td>\n",
       "      <td>287836.000000</td>\n",
       "      <td>287836.000000</td>\n",
       "      <td>287836.000000</td>\n",
       "    </tr>\n",
       "    <tr>\n",
       "      <th>mean</th>\n",
       "      <td>2014.250104</td>\n",
       "      <td>2.976007</td>\n",
       "      <td>490.540186</td>\n",
       "      <td>26913.060020</td>\n",
       "      <td>63262.713139</td>\n",
       "      <td>4401.037115</td>\n",
       "      <td>8932.876472</td>\n",
       "      <td>97990.329882</td>\n",
       "    </tr>\n",
       "    <tr>\n",
       "      <th>std</th>\n",
       "      <td>1.016282</td>\n",
       "      <td>1.575586</td>\n",
       "      <td>333.238723</td>\n",
       "      <td>15539.719696</td>\n",
       "      <td>44638.657748</td>\n",
       "      <td>11079.137749</td>\n",
       "      <td>4894.072024</td>\n",
       "      <td>67750.020573</td>\n",
       "    </tr>\n",
       "    <tr>\n",
       "      <th>min</th>\n",
       "      <td>2013.000000</td>\n",
       "      <td>1.000000</td>\n",
       "      <td>1.000000</td>\n",
       "      <td>1.000000</td>\n",
       "      <td>-68771.000000</td>\n",
       "      <td>-12308.000000</td>\n",
       "      <td>-2940.470000</td>\n",
       "      <td>-74082.000000</td>\n",
       "    </tr>\n",
       "    <tr>\n",
       "      <th>25%</th>\n",
       "      <td>2013.000000</td>\n",
       "      <td>2.000000</td>\n",
       "      <td>236.000000</td>\n",
       "      <td>13434.000000</td>\n",
       "      <td>23406.000000</td>\n",
       "      <td>0.000000</td>\n",
       "      <td>4358.347500</td>\n",
       "      <td>35977.000000</td>\n",
       "    </tr>\n",
       "    <tr>\n",
       "      <th>50%</th>\n",
       "      <td>2014.000000</td>\n",
       "      <td>2.000000</td>\n",
       "      <td>535.000000</td>\n",
       "      <td>27013.000000</td>\n",
       "      <td>62504.500000</td>\n",
       "      <td>0.000000</td>\n",
       "      <td>11982.035000</td>\n",
       "      <td>98033.000000</td>\n",
       "    </tr>\n",
       "    <tr>\n",
       "      <th>75%</th>\n",
       "      <td>2015.000000</td>\n",
       "      <td>4.000000</td>\n",
       "      <td>790.000000</td>\n",
       "      <td>40397.250000</td>\n",
       "      <td>93000.250000</td>\n",
       "      <td>2738.000000</td>\n",
       "      <td>12801.790000</td>\n",
       "      <td>142138.250000</td>\n",
       "    </tr>\n",
       "    <tr>\n",
       "      <th>max</th>\n",
       "      <td>2016.000000</td>\n",
       "      <td>7.000000</td>\n",
       "      <td>990.000000</td>\n",
       "      <td>53794.000000</td>\n",
       "      <td>515101.000000</td>\n",
       "      <td>227313.000000</td>\n",
       "      <td>21872.800000</td>\n",
       "      <td>653498.000000</td>\n",
       "    </tr>\n",
       "  </tbody>\n",
       "</table>\n",
       "</div>"
      ],
      "text/plain": [
       "                Year            OGC             UC             EI  \\\n",
       "count  287836.000000  287836.000000  287836.000000  287836.000000   \n",
       "mean     2014.250104       2.976007     490.540186   26913.060020   \n",
       "std         1.016282       1.575586     333.238723   15539.719696   \n",
       "min      2013.000000       1.000000       1.000000       1.000000   \n",
       "25%      2013.000000       2.000000     236.000000   13434.000000   \n",
       "50%      2014.000000       2.000000     535.000000   27013.000000   \n",
       "75%      2015.000000       4.000000     790.000000   40397.250000   \n",
       "max      2016.000000       7.000000     990.000000   53794.000000   \n",
       "\n",
       "            Salaries       Overtime            H/D  Total_Compensation  \n",
       "count  287836.000000  287836.000000  287836.000000       287836.000000  \n",
       "mean    63262.713139    4401.037115    8932.876472        97990.329882  \n",
       "std     44638.657748   11079.137749    4894.072024        67750.020573  \n",
       "min    -68771.000000  -12308.000000   -2940.470000       -74082.000000  \n",
       "25%     23406.000000       0.000000    4358.347500        35977.000000  \n",
       "50%     62504.500000       0.000000   11982.035000        98033.000000  \n",
       "75%     93000.250000    2738.000000   12801.790000       142138.250000  \n",
       "max    515101.000000  227313.000000   21872.800000       653498.000000  "
      ]
     },
     "execution_count": 18,
     "metadata": {},
     "output_type": "execute_result"
    }
   ],
   "source": [
    "train.describe()"
   ]
  },
  {
   "cell_type": "code",
   "execution_count": 19,
   "id": "offshore-approach",
   "metadata": {},
   "outputs": [],
   "source": [
    "train['H/D'] = train['H/D'].apply(lambda x: 0 if x<=0 else x)\n",
    "train['Overtime'] = train['Overtime'].apply(lambda x: 0 if x<=0 else x)\n",
    "train['Salaries'] = train['Salaries'].apply(lambda x: 0 if x<=0 else x)"
   ]
  },
  {
   "cell_type": "code",
   "execution_count": 20,
   "id": "color-exhaust",
   "metadata": {},
   "outputs": [
    {
     "data": {
      "text/plain": [
       "Year                       4\n",
       "OGC                        7\n",
       "OG                         7\n",
       "DC                        54\n",
       "Dept                      54\n",
       "UC                       789\n",
       "Union                     73\n",
       "JF                        55\n",
       "Job                     1136\n",
       "EI                     52403\n",
       "Salaries              104379\n",
       "Overtime               33609\n",
       "H/D                   113573\n",
       "YT                         2\n",
       "Total_Compensation    155965\n",
       "dtype: int64"
      ]
     },
     "execution_count": 20,
     "metadata": {},
     "output_type": "execute_result"
    }
   ],
   "source": [
    "train.nunique()"
   ]
  },
  {
   "cell_type": "code",
   "execution_count": 21,
   "id": "unusual-solid",
   "metadata": {},
   "outputs": [
    {
     "data": {
      "text/html": [
       "<div>\n",
       "<style scoped>\n",
       "    .dataframe tbody tr th:only-of-type {\n",
       "        vertical-align: middle;\n",
       "    }\n",
       "\n",
       "    .dataframe tbody tr th {\n",
       "        vertical-align: top;\n",
       "    }\n",
       "\n",
       "    .dataframe thead th {\n",
       "        text-align: right;\n",
       "    }\n",
       "</style>\n",
       "<table border=\"1\" class=\"dataframe\">\n",
       "  <thead>\n",
       "    <tr style=\"text-align: right;\">\n",
       "      <th></th>\n",
       "      <th>Year</th>\n",
       "      <th>OGC</th>\n",
       "      <th>OG</th>\n",
       "      <th>DC</th>\n",
       "      <th>Dept</th>\n",
       "      <th>UC</th>\n",
       "      <th>Union</th>\n",
       "      <th>JF</th>\n",
       "      <th>Job</th>\n",
       "      <th>EI</th>\n",
       "      <th>Salaries</th>\n",
       "      <th>Overtime</th>\n",
       "      <th>H/D</th>\n",
       "      <th>YT</th>\n",
       "      <th>Total_Compensation</th>\n",
       "    </tr>\n",
       "  </thead>\n",
       "  <tbody>\n",
       "    <tr>\n",
       "      <th>0</th>\n",
       "      <td>2015</td>\n",
       "      <td>4</td>\n",
       "      <td>Community Health</td>\n",
       "      <td>DPH</td>\n",
       "      <td>Public Health</td>\n",
       "      <td>250</td>\n",
       "      <td>SEIU - Health Workers, Local 1021</td>\n",
       "      <td>Med Therapy &amp; Auxiliary</td>\n",
       "      <td>Morgue Attendant</td>\n",
       "      <td>6725</td>\n",
       "      <td>12196</td>\n",
       "      <td>0</td>\n",
       "      <td>0.00</td>\n",
       "      <td>Calendar</td>\n",
       "      <td>16158</td>\n",
       "    </tr>\n",
       "    <tr>\n",
       "      <th>1</th>\n",
       "      <td>2013</td>\n",
       "      <td>4</td>\n",
       "      <td>Community Health</td>\n",
       "      <td>DPH</td>\n",
       "      <td>Public Health</td>\n",
       "      <td>39</td>\n",
       "      <td>Stationary Engineers, Local 39</td>\n",
       "      <td>Journeyman Trade</td>\n",
       "      <td>Stationary Engineer</td>\n",
       "      <td>25058</td>\n",
       "      <td>74639</td>\n",
       "      <td>2820</td>\n",
       "      <td>12703.31</td>\n",
       "      <td>Fiscal</td>\n",
       "      <td>115784</td>\n",
       "    </tr>\n",
       "    <tr>\n",
       "      <th>2</th>\n",
       "      <td>2015</td>\n",
       "      <td>6</td>\n",
       "      <td>General Administration &amp; Finance</td>\n",
       "      <td>ASR</td>\n",
       "      <td>Assessor/Recorder</td>\n",
       "      <td>21</td>\n",
       "      <td>Prof &amp; Tech Engineers - Miscellaneous, Local 21</td>\n",
       "      <td>Appraisal &amp; Taxation</td>\n",
       "      <td>Senior Real Property Appraiser</td>\n",
       "      <td>46108</td>\n",
       "      <td>100554</td>\n",
       "      <td>0</td>\n",
       "      <td>12424.50</td>\n",
       "      <td>Calendar</td>\n",
       "      <td>144708</td>\n",
       "    </tr>\n",
       "    <tr>\n",
       "      <th>3</th>\n",
       "      <td>2016</td>\n",
       "      <td>1</td>\n",
       "      <td>Public Protection</td>\n",
       "      <td>POL</td>\n",
       "      <td>Police</td>\n",
       "      <td>911</td>\n",
       "      <td>Police Officers' Association</td>\n",
       "      <td>Police Services</td>\n",
       "      <td>Sergeant 3</td>\n",
       "      <td>33369</td>\n",
       "      <td>140164</td>\n",
       "      <td>52754</td>\n",
       "      <td>13043.87</td>\n",
       "      <td>Fiscal</td>\n",
       "      <td>242323</td>\n",
       "    </tr>\n",
       "    <tr>\n",
       "      <th>4</th>\n",
       "      <td>2013</td>\n",
       "      <td>2</td>\n",
       "      <td>Public Works, Transportation &amp; Commerce</td>\n",
       "      <td>HHP</td>\n",
       "      <td>PUC Hetch Hetchy</td>\n",
       "      <td>21</td>\n",
       "      <td>Prof &amp; Tech Engineers - Miscellaneous, Local 21</td>\n",
       "      <td>Information Systems</td>\n",
       "      <td>IS Engineer-Journey</td>\n",
       "      <td>28684</td>\n",
       "      <td>58813</td>\n",
       "      <td>0</td>\n",
       "      <td>7655.28</td>\n",
       "      <td>Calendar</td>\n",
       "      <td>82106</td>\n",
       "    </tr>\n",
       "  </tbody>\n",
       "</table>\n",
       "</div>"
      ],
      "text/plain": [
       "   Year  OGC                                       OG   DC               Dept  \\\n",
       "0  2015    4                         Community Health  DPH      Public Health   \n",
       "1  2013    4                         Community Health  DPH      Public Health   \n",
       "2  2015    6         General Administration & Finance  ASR  Assessor/Recorder   \n",
       "3  2016    1                        Public Protection  POL             Police   \n",
       "4  2013    2  Public Works, Transportation & Commerce  HHP   PUC Hetch Hetchy   \n",
       "\n",
       "    UC                                            Union  \\\n",
       "0  250                SEIU - Health Workers, Local 1021   \n",
       "1   39                   Stationary Engineers, Local 39   \n",
       "2   21  Prof & Tech Engineers - Miscellaneous, Local 21   \n",
       "3  911                     Police Officers' Association   \n",
       "4   21  Prof & Tech Engineers - Miscellaneous, Local 21   \n",
       "\n",
       "                        JF                             Job     EI  Salaries  \\\n",
       "0  Med Therapy & Auxiliary                Morgue Attendant   6725     12196   \n",
       "1         Journeyman Trade             Stationary Engineer  25058     74639   \n",
       "2     Appraisal & Taxation  Senior Real Property Appraiser  46108    100554   \n",
       "3          Police Services                      Sergeant 3  33369    140164   \n",
       "4      Information Systems             IS Engineer-Journey  28684     58813   \n",
       "\n",
       "   Overtime       H/D        YT  Total_Compensation  \n",
       "0         0      0.00  Calendar               16158  \n",
       "1      2820  12703.31    Fiscal              115784  \n",
       "2         0  12424.50  Calendar              144708  \n",
       "3     52754  13043.87    Fiscal              242323  \n",
       "4         0   7655.28  Calendar               82106  "
      ]
     },
     "execution_count": 21,
     "metadata": {},
     "output_type": "execute_result"
    }
   ],
   "source": [
    "train.head()"
   ]
  },
  {
   "cell_type": "code",
   "execution_count": 22,
   "id": "armed-mason",
   "metadata": {},
   "outputs": [
    {
     "data": {
      "text/plain": [
       "Public Works, Transportation & Commerce     91256\n",
       "Community Health                            62828\n",
       "Public Protection                           54769\n",
       "Human Welfare & Neighborhood Development    26702\n",
       "Culture & Recreation                        26074\n",
       "General Administration & Finance            25914\n",
       "General City Responsibilities                 293\n",
       "Name: OG, dtype: int64"
      ]
     },
     "execution_count": 22,
     "metadata": {},
     "output_type": "execute_result"
    }
   ],
   "source": [
    "train['OG'].value_counts()"
   ]
  },
  {
   "cell_type": "code",
   "execution_count": 23,
   "id": "superb-frederick",
   "metadata": {},
   "outputs": [
    {
     "data": {
      "text/plain": [
       "Public Health                             62859\n",
       "Municipal Transportation Agency           42149\n",
       "Human Services                            23847\n",
       "Police                                    22911\n",
       "Recreation and Park Commission            15968\n",
       "Airport Commission                        13507\n",
       "Fire Department                           11564\n",
       "General Services Agency - Public Works    10958\n",
       "Sheriff                                    7410\n",
       "General Services Agency - City Admin       7343\n",
       "PUC Public Utilities Commission            6758\n",
       "Public Library                             6597\n",
       "PUC Water Department                       5813\n",
       "PUC Wastewater Enterprise                  4114\n",
       "Superior Court                             3959\n",
       "PUC Hetch Hetchy                           2894\n",
       "Juvenile Probation                         2356\n",
       "City Attorney                              2336\n",
       "Department of Building Inspection          2218\n",
       "District Attorney                          2133\n",
       "Human Resources                            2053\n",
       "Department of Emergency Management         2033\n",
       "Controller                                 2027\n",
       "General Services Agency - Technology       1987\n",
       "Port                                       1954\n",
       "Fine Arts Museum                           1941\n",
       "City Planning                              1891\n",
       "Treasurer/Tax Collector                    1888\n",
       "Elections                                  1827\n",
       "Assessor/Recorder                          1301\n",
       "Public Defender                            1230\n",
       "Adult Probation                            1170\n",
       "Environment                                 999\n",
       "Board of Supervisors                        870\n",
       "Mayor                                       846\n",
       "Economic and Workforce Development          824\n",
       "Retirement System                           741\n",
       "Child Support Services                      677\n",
       "War Memorial                                607\n",
       "Health Service System                       566\n",
       "Asian Art Museum                            551\n",
       "Children, Youth & Their Families            457\n",
       "Rent Arbitration Board                      316\n",
       "General Fund Unallocated                    293\n",
       "Arts Commission                             292\n",
       "Human Rights Commission                     175\n",
       "Ethics Commission                           122\n",
       "Children and Families Commission            105\n",
       "Department of the Status of Women           104\n",
       "Academy of Sciences                         101\n",
       "Board of Appeals                             79\n",
       "Civil Service Commission                     77\n",
       "Community Investment & Infrastructure        24\n",
       "Law Library                                  14\n",
       "Name: Dept, dtype: int64"
      ]
     },
     "execution_count": 23,
     "metadata": {},
     "output_type": "execute_result"
    }
   ],
   "source": [
    "train['Dept'].value_counts()"
   ]
  },
  {
   "cell_type": "code",
   "execution_count": 24,
   "id": "color-fetish",
   "metadata": {},
   "outputs": [],
   "source": [
    "dc = train['DC'].value_counts().to_dict()\n",
    "mean_union =train.groupby(['Union']).mean()['Total_Compensation'].sort_values(ascending=False).to_dict()\n",
    "mean_og =train.groupby(['OG']).mean()['Total_Compensation'].sort_values(ascending=False).to_dict()\n",
    "mean_dept =train.groupby(['Dept']).mean()['Total_Compensation'].sort_values(ascending=False).to_dict()\n",
    "mean_jf =train.groupby(['JF']).mean()['Total_Compensation'].sort_values(ascending=False).to_dict()\n",
    "mean_job =train.groupby(['Job']).mean()['Total_Compensation'].sort_values(ascending=False).to_dict()"
   ]
  },
  {
   "cell_type": "code",
   "execution_count": 25,
   "id": "surprised-timer",
   "metadata": {},
   "outputs": [],
   "source": [
    "train['Union'] = train['Union'].map(mean_union)\n",
    "train['OG'] = train['OG'].map(mean_og)\n",
    "train['Dept'] = train['Dept'].map(mean_dept)\n",
    "train['JF'] = train['JF'].map(mean_jf)\n",
    "train['Job'] = train['Job'].map(mean_job)\n",
    "train['DC'] = train['DC'].map(dc)\n",
    "train['YT'] = train['YT'].map({'Calendar':1,'Fiscal':0})"
   ]
  },
  {
   "cell_type": "code",
   "execution_count": 26,
   "id": "bottom-array",
   "metadata": {},
   "outputs": [
    {
     "data": {
      "text/plain": [
       "Year                   0\n",
       "OGC                    0\n",
       "OG                     0\n",
       "DC                     0\n",
       "Dept                   0\n",
       "UC                     0\n",
       "Union                 36\n",
       "JF                    38\n",
       "Job                    0\n",
       "EI                     0\n",
       "Salaries               0\n",
       "Overtime               0\n",
       "H/D                    0\n",
       "YT                     0\n",
       "Total_Compensation     0\n",
       "dtype: int64"
      ]
     },
     "execution_count": 26,
     "metadata": {},
     "output_type": "execute_result"
    }
   ],
   "source": [
    "train.isnull().sum()"
   ]
  },
  {
   "cell_type": "code",
   "execution_count": 27,
   "id": "everyday-lewis",
   "metadata": {},
   "outputs": [],
   "source": [
    "train.dropna(inplace=True)"
   ]
  },
  {
   "cell_type": "code",
   "execution_count": 28,
   "id": "heard-cruise",
   "metadata": {},
   "outputs": [],
   "source": [
    "X = train.iloc[:,:-1].values\n",
    "Y = train.iloc[:,-1].values.reshape(-1,1)"
   ]
  },
  {
   "cell_type": "code",
   "execution_count": 29,
   "id": "flexible-transportation",
   "metadata": {},
   "outputs": [],
   "source": [
    "from sklearn.model_selection import train_test_split\n",
    "X_train,X_test,y_train,y_test = train_test_split(X,Y,test_size=0.2,random_state=0)"
   ]
  },
  {
   "cell_type": "code",
   "execution_count": 30,
   "id": "welcome-member",
   "metadata": {},
   "outputs": [],
   "source": [
    "from lightgbm import LGBMRegressor\n",
    "from sklearn.ensemble import RandomForestRegressor,GradientBoostingRegressor,AdaBoostRegressor\n",
    "from xgboost import XGBRegressor\n",
    "from catboost import CatBoostRegressor\n",
    "from sklearn.neighbors import NearestNeighbors\n",
    "from sklearn.linear_model import LinearRegression, Lasso,Ridge\n",
    "from sklearn.ensemble import VotingRegressor\n",
    "from sklearn.neighbors import KNeighborsRegressor"
   ]
  },
  {
   "cell_type": "code",
   "execution_count": 31,
   "id": "cordless-farming",
   "metadata": {},
   "outputs": [],
   "source": [
    "#from sklearn.model_selection import GridSearchCV\n",
    "# xgb1 = XGBRegressor()\n",
    "# parameters = {'nthread':[4], #when use hyperthread, xgboost may become slower\n",
    "#               'objective':['reg:linear'],\n",
    "#               'learning_rate': [0.01,0.03,0.05,0.07,0.1,0.15], #so called `eta` value\n",
    "#               'max_depth': [7,8,9,10],\n",
    "#               'min_child_weight': [3,4,5],\n",
    "#               'silent': [1],\n",
    "#               'subsample': [0.6,0.7,0.8],\n",
    "#               'colsample_bytree': [0.5,0.6,0.7,0.8],\n",
    "#               'n_estimators': [100]}\n",
    "\n",
    "# xgb_grid = GridSearchCV(xgb1,\n",
    "#                         parameters,\n",
    "#                         cv = 2,\n",
    "#                         n_jobs = 5,\n",
    "#                            verbose=True)\n",
    "\n",
    "# xgb_grid.fit(X,\n",
    "#          Y)\n",
    "# print(xgb_grid.best_score_)\n",
    "# print(xgb_grid.best_params_)\n",
    "\n",
    "#####\n",
    "#OUTPUT -- {'colsample_bytree': 0.8, 'learning_rate': 0.15, 'max_depth': 10, 'min_child_weight': 3, 'n_estimators': 100, 'nthread': 4, 'objective': 'reg:linear', 'silent': 1, 'subsample': 0.8}\n",
    "######"
   ]
  },
  {
   "cell_type": "code",
   "execution_count": 32,
   "id": "alternative-tobago",
   "metadata": {},
   "outputs": [],
   "source": [
    "from sklearn.preprocessing import StandardScaler\n",
    "scx = StandardScaler()\n",
    "scy = StandardScaler()\n",
    "\n",
    "Y = scy.fit_transform(Y)\n",
    "X = scx.fit_transform(X)"
   ]
  },
  {
   "cell_type": "code",
   "execution_count": 33,
   "id": "stunning-fireplace",
   "metadata": {},
   "outputs": [
    {
     "name": "stdout",
     "output_type": "stream",
     "text": [
      "[11:32:55] WARNING: /Users/travis/build/dmlc/xgboost/src/objective/regression_obj.cu:170: reg:linear is now deprecated in favor of reg:squarederror.\n",
      "[11:32:55] WARNING: /Users/travis/build/dmlc/xgboost/src/learner.cc:541: \n",
      "Parameters: { silent } might not be used.\n",
      "\n",
      "  This may not be accurate due to some parameters are only used in language bindings but\n",
      "  passed down to XGBoost core.  Or some parameters are not used but slip through this\n",
      "  verification. Please open an issue if you find above cases.\n",
      "\n",
      "\n"
     ]
    },
    {
     "data": {
      "text/plain": [
       "XGBRegressor(base_score=0.5, booster='gbtree', colsample_bylevel=1,\n",
       "             colsample_bynode=1, colsample_bytree=0.8, gamma=0, gpu_id=-1,\n",
       "             importance_type='gain', interaction_constraints='',\n",
       "             learning_rate=0.15, max_delta_step=0, max_depth=10,\n",
       "             min_child_weight=3, missing=nan, monotone_constraints='()',\n",
       "             n_estimators=1000, n_jobs=4, nthread=4, num_parallel_tree=1,\n",
       "             objective='reg:linear', random_state=0, reg_alpha=0, reg_lambda=1,\n",
       "             scale_pos_weight=1, silent=1, subsample=0.8, tree_method='exact',\n",
       "             validate_parameters=1, verbosity=None)"
      ]
     },
     "execution_count": 33,
     "metadata": {},
     "output_type": "execute_result"
    }
   ],
   "source": [
    "regressor = XGBRegressor( colsample_bytree= 0.8, learning_rate= 0.15, max_depth= 10, min_child_weight= 3, n_estimators= 1000, nthread= 4, objective= 'reg:linear', silent= 1, subsample= 0.8)\n",
    "regressor.fit(X,Y)"
   ]
  },
  {
   "cell_type": "code",
   "execution_count": 34,
   "id": "bizarre-discrimination",
   "metadata": {},
   "outputs": [],
   "source": [
    "test['H/D']      = test['H/D'].apply(lambda x: 0 if x<=0 else x)\n",
    "test['Overtime'] = test['Overtime'].apply(lambda x: 0 if x<=0 else x)\n",
    "test['Salaries'] = test['Salaries'].apply(lambda x: 0 if x<=0 else x)"
   ]
  },
  {
   "cell_type": "code",
   "execution_count": 35,
   "id": "annual-dragon",
   "metadata": {},
   "outputs": [],
   "source": [
    "test['Union'] = test['Union'].map(mean_union)\n",
    "test['OG']    = test['OG'].map(mean_og)\n",
    "test['Dept']  = test['Dept'].map(mean_dept)\n",
    "test['JF']    = test['JF'].map(mean_jf)\n",
    "test['Job']   = test['Job'].map(mean_job)\n",
    "test['DC']    = test['DC'].map(dc)\n",
    "test['YT']    = test['YT'].map({'Calendar':1,'Fiscal':0})"
   ]
  },
  {
   "cell_type": "code",
   "execution_count": 36,
   "id": "about-douglas",
   "metadata": {},
   "outputs": [
    {
     "data": {
      "text/plain": [
       "Year        0\n",
       "OGC         0\n",
       "OG          0\n",
       "DC          0\n",
       "Dept        0\n",
       "UC          0\n",
       "Union       7\n",
       "JF          7\n",
       "Job         3\n",
       "EI          0\n",
       "Salaries    0\n",
       "Overtime    0\n",
       "H/D         0\n",
       "YT          0\n",
       "dtype: int64"
      ]
     },
     "execution_count": 36,
     "metadata": {},
     "output_type": "execute_result"
    }
   ],
   "source": [
    "test.isnull().sum()"
   ]
  },
  {
   "cell_type": "code",
   "execution_count": 37,
   "id": "sustained-stations",
   "metadata": {},
   "outputs": [],
   "source": [
    "test['Union'] = test['Union'].fillna(train['Union'].median())\n",
    "test['JF'] = test['JF'].fillna(train['JF'].median())\n",
    "test['Job'] = test['Job'].fillna(train['Job'].median())"
   ]
  },
  {
   "cell_type": "code",
   "execution_count": 38,
   "id": "textile-apparatus",
   "metadata": {},
   "outputs": [],
   "source": [
    "Xt = test.values\n",
    "Xt = scx.transform(Xt)"
   ]
  },
  {
   "cell_type": "code",
   "execution_count": 40,
   "id": "hired-algorithm",
   "metadata": {},
   "outputs": [],
   "source": [
    "yt_pred = regressor.predict(Xt)\n",
    "yt_pred = scy.inverse_transform(yt_pred)"
   ]
  },
  {
   "cell_type": "code",
   "execution_count": 41,
   "id": "metallic-mason",
   "metadata": {},
   "outputs": [],
   "source": [
    "final = pd.DataFrame()\n",
    "final['Compensation'] = yt_pred\n",
    "final['Compensation'] = final['Compensation'].apply(lambda x : 0 if x<=0 else x)"
   ]
  },
  {
   "cell_type": "code",
   "execution_count": 42,
   "id": "cosmetic-direction",
   "metadata": {},
   "outputs": [],
   "source": [
    " final.to_csv('final.csv',index=False)"
   ]
  },
  {
   "cell_type": "code",
   "execution_count": null,
   "id": "super-holocaust",
   "metadata": {},
   "outputs": [],
   "source": []
  }
 ],
 "metadata": {
  "kernelspec": {
   "display_name": "Python 3",
   "language": "python",
   "name": "python3"
  },
  "language_info": {
   "codemirror_mode": {
    "name": "ipython",
    "version": 3
   },
   "file_extension": ".py",
   "mimetype": "text/x-python",
   "name": "python",
   "nbconvert_exporter": "python",
   "pygments_lexer": "ipython3",
   "version": "3.9.0"
  }
 },
 "nbformat": 4,
 "nbformat_minor": 5
}
